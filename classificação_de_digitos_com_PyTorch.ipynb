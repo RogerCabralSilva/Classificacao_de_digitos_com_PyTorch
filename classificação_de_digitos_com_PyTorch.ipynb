{
 "cells": [
  {
   "cell_type": "markdown",
   "id": "fd47469e",
   "metadata": {},
   "source": [
    "# 1 - Importação dos Módulos"
   ]
  },
  {
   "cell_type": "code",
   "execution_count": 14,
   "id": "dc464fee",
   "metadata": {},
   "outputs": [],
   "source": [
    "import torch\n",
    "import torch.nn as nn\n",
    "import torch.nn.functional as F\n",
    "import torch.optim as optim\n",
    "from torchvision import datasets, transforms\n",
    "import matplotlib.pyplot as plt"
   ]
  },
  {
   "cell_type": "markdown",
   "id": "4c0fe9ca",
   "metadata": {},
   "source": [
    "# 2 - Preparação dos Dados"
   ]
  },
  {
   "cell_type": "code",
   "execution_count": 15,
   "id": "0aed356a",
   "metadata": {},
   "outputs": [],
   "source": [
    "# Transformação: converte imagem para tensor e normaliza os pixels (0 a 1)\n",
    "transform = transforms.Compose([\n",
    "    transforms.ToTensor(), \n",
    "    transforms.Normalize((0.5,), (0.5,))\n",
    "])\n",
    "\n",
    "# Download dos dados (se ainda não estiverem na máquina)\n",
    "train_dataset = datasets.MNIST(root='./data', train=True, transform=transform, download=True)\n",
    "test_dataset = datasets.MNIST(root='./data', train=False, transform=transform, download=True)\n",
    "\n",
    "# DataLoaders: carregam os dados em mini-batches\n",
    "train_loader = torch.utils.data.DataLoader(train_dataset, batch_size=64, shuffle=True)\n",
    "test_loader = torch.utils.data.DataLoader(test_dataset, batch_size=64, shuffle=False)\n"
   ]
  },
  {
   "cell_type": "markdown",
   "id": "ec626edd",
   "metadata": {},
   "source": [
    "# 3 - Criando o Modelo (Rede Neural)"
   ]
  },
  {
   "cell_type": "code",
   "execution_count": null,
   "id": "f47e8402",
   "metadata": {},
   "outputs": [],
   "source": [
    "class Net(nn.Module):\n",
    "    def __init__(self):\n",
    "        super(Net, self).__init__()\n",
    "        self.fc1 = nn.Linear(28*28, 128)   # Entrada -> camada escondida 1\n",
    "        self.fc2 = nn.Linear(128, 64)      # Escondida 1 -> escondida 2\n",
    "        self.fc3 = nn.Linear(64, 10)       # Escondida 2 -> saída (10 classes)\n",
    "\n",
    "    def forward(self, x):\n",
    "        x = x.view(-1, 28*28)             # Achata imagem (de 28x28 para 784)\n",
    "        x = F.relu(self.fc1(x))           # Ativação ReLU\n",
    "        x = F.relu(self.fc2(x))           \n",
    "        x = self.fc3(x)                   # Saída sem ativação (usaremos CrossEntropy)\n",
    "        return x\n",
    "\n",
    "model = Net()"
   ]
  },
  {
   "cell_type": "markdown",
   "id": "82c20fe4",
   "metadata": {},
   "source": [
    "# 5 - Funçao de perda e otimizador"
   ]
  },
  {
   "cell_type": "code",
   "execution_count": 17,
   "id": "7764207d",
   "metadata": {},
   "outputs": [],
   "source": [
    "criterion = nn.CrossEntropyLoss()\n",
    "optimizer = optim.SGD(model.parameters(), lr=0.01, momentum=0.9)"
   ]
  },
  {
   "cell_type": "markdown",
   "id": "c2505320",
   "metadata": {},
   "source": [
    "# 6 - Treinamento do Modelo"
   ]
  },
  {
   "cell_type": "code",
   "execution_count": 18,
   "id": "0b58d64a",
   "metadata": {},
   "outputs": [
    {
     "name": "stdout",
     "output_type": "stream",
     "text": [
      "Época 1 - Loss: 413.7426\n",
      "Época 2 - Loss: 169.1826\n",
      "Época 3 - Loss: 119.4468\n",
      "Época 4 - Loss: 98.8936\n",
      "Época 5 - Loss: 83.8590\n"
     ]
    }
   ],
   "source": [
    "for epoch in range(5):  # 5 épocas de treino\n",
    "    running_loss = 0.0\n",
    "    for images, labels in train_loader:\n",
    "        optimizer.zero_grad()            # Zera os gradientes anteriores\n",
    "        outputs = model(images)          # Forward\n",
    "        loss = criterion(outputs, labels)# Calcula erro\n",
    "        loss.backward()                  # Backpropagation\n",
    "        optimizer.step()                 # Atualiza pesos\n",
    "        \n",
    "        running_loss += loss.item()\n",
    "    print(f'Época {epoch+1} - Loss: {running_loss:.4f}')\n"
   ]
  },
  {
   "cell_type": "markdown",
   "id": "79d84951",
   "metadata": {},
   "source": [
    "# 7 Avaliação no conjunto de teste"
   ]
  },
  {
   "cell_type": "code",
   "execution_count": 19,
   "id": "e34360f0",
   "metadata": {},
   "outputs": [
    {
     "name": "stdout",
     "output_type": "stream",
     "text": [
      "Acurácia no teste: 96.88%\n"
     ]
    }
   ],
   "source": [
    "correct = 0\n",
    "total = 0\n",
    "with torch.no_grad():\n",
    "    for images, labels in test_loader:\n",
    "        outputs = model(images)\n",
    "        _, predicted = torch.max(outputs, 1)\n",
    "        total += labels.size(0)\n",
    "        correct += (predicted == labels).sum().item()\n",
    "\n",
    "print(f'Acurácia no teste: {100 * correct / total:.2f}%')\n"
   ]
  },
  {
   "cell_type": "markdown",
   "id": "5d1a64ed",
   "metadata": {},
   "source": [
    "# 8 - Visualizando Previsões"
   ]
  },
  {
   "cell_type": "code",
   "execution_count": null,
   "id": "fc797213",
   "metadata": {},
   "outputs": [
    {
     "data": {
      "image/png": "[encoded data removed]",
      "text/plain": [
       "<Figure size 1200x200 with 6 Axes>"
      ]
     },
     "metadata": {},
     "output_type": "display_data"
    }
   ],
   "source": [
    "dataiter = iter(test_loader)\n",
    "images, labels = next(dataiter)\n",
    "\n",
    "# Pegamos as 6 primeiras imagens\n",
    "fig, axes = plt.subplots(1, 6, figsize=(12, 2))\n",
    "for i in range(6):\n",
    "    img = images[i]\n",
    "    ax = axes[i]\n",
    "    ax.imshow(img.squeeze(), cmap='gray')\n",
    "    output = model(img.unsqueeze(0))  # Adiciona dimensão de batch\n",
    "    _, pred = torch.max(output, 1)\n",
    "    ax.set_title(f'Previsão: {pred.item()}')\n",
    "    ax.axis('off')\n",
    "plt.show()"
   ]
  }
 ],
 "metadata": {
  "kernelspec": {
   "display_name": "base",
   "language": "python",
   "name": "python3"
  },
  "language_info": {
   "codemirror_mode": {
    "name": "ipython",
    "version": 3
   },
   "file_extension": ".py",
   "mimetype": "text/x-python",
   "name": "python",
   "nbconvert_exporter": "python",
   "pygments_lexer": "ipython3",
   "version": "3.11.7"
  }
 },
 "nbformat": 4,
 "nbformat_minor": 5
}

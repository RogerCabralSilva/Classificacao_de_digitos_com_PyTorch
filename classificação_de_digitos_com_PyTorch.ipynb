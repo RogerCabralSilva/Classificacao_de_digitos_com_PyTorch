{
 "cells": [
  {
   "cell_type": "markdown",
   "id": "fd47469e",
   "metadata": {},
   "source": [
    "# 1 - Importação dos Módulos"
   ]
  },
  {
   "cell_type": "code",
   "execution_count": null,
   "id": "dc464fee",
   "metadata": {},
   "outputs": [],
   "source": [
    "import torch\n",
    "import torch.nn as nn\n",
    "import torch.nn.functional as F\n",
    "import torch.optim as optim\n",
    "from torchvision import dataset, transforms\n",
    "import matplotlib.pyplot as plt"
   ]
  },
  {
   "cell_type": "markdown",
   "id": "4c0fe9ca",
   "metadata": {},
   "source": [
    "# 2 - Preparação dos Dados"
   ]
  },
  {
   "cell_type": "code",
   "execution_count": null,
   "id": "0aed356a",
   "metadata": {},
   "outputs": [],
   "source": [
    "# Transformação: converte imagem para tensor e normalize os pixels (0 a 1)\n",
    "transform = transforms.Compose([\n",
    "  transforms.ToTensor(),\n",
    "  transforms.Normalize((0.5,), (0.5,))\n",
    "])\n",
    "\n",
    "# Download dos dados (se ainda não estiverem na maquina)\n",
    "train_dataset = dataset.MNIST(root='./data', train=True, transform=True, transform=transform, download=True)\n",
    "\n",
    "test_dataset = dataset.MNIST(root='./data', train=False, transform=transform, download=True)\n",
    "\n",
    "# DataLoaders: carregam os dados em mini-batches\n",
    "train_loader = torch.utils.data.DataLoader(train_dataset, batch_size=64, shuffle=True)\n",
    "\n",
    "test_loader = torch.utils.data.DataLoader(train_dataset, batch_size=64, shuffle=True)"
   ]
  },
  {
   "cell_type": "markdown",
   "id": "ec626edd",
   "metadata": {},
   "source": [
    "# 3 - Criando o Modelo (Rede Neural)"
   ]
  },
  {
   "cell_type": "code",
   "execution_count": null,
   "id": "f47e8402",
   "metadata": {},
   "outputs": [],
   "source": [
    "class Net(nn.Module):\n",
    "    def __init__(self):\n",
    "        super(Net, self).__init__()\n",
    "        self.fc1 = nn.Linear(28*28, 128)\n",
    "        self.fc2 = nn.Linear(128, 64)\n",
    "        self.fc3 = nn.Linear(64, 10)\n",
    "    \n",
    "    def foward(self, x):\n",
    "        x = x.view(-1, 28*28)\n",
    "        x = F.relu(self.fc1(x))\n",
    "        x = F.relu(self.fc2(x))\n",
    "        x = self.fc3(x)\n",
    "        return x\n",
    "    \n",
    "model = Net()"
   ]
  }
 ],
 "metadata": {
  "kernelspec": {
   "display_name": "base",
   "language": "python",
   "name": "python3"
  },
  "language_info": {
   "name": "python",
   "version": "3.11.7"
  }
 },
 "nbformat": 4,
 "nbformat_minor": 5
}

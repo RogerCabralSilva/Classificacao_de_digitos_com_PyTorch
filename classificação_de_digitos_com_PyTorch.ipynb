{
 "cells": [
  {
   "cell_type": "markdown",
   "id": "fd47469e",
   "metadata": {},
   "source": [
    "# 1 - Importação dos Módulos"
   ]
  },
  {
   "cell_type": "code",
   "execution_count": null,
   "id": "dc464fee",
   "metadata": {},
   "outputs": [],
   "source": [
    "import torch\n",
    "import torch.nn as nn\n",
    "import torch.nn.functional as F\n",
    "import torch.optim as optim\n",
    "from torchvision import dataset, transforms\n",
    "import matplotlib.pyplot as plt"
   ]
  },
  {
   "cell_type": "markdown",
   "id": "4c0fe9ca",
   "metadata": {},
   "source": [
    "# 2 - Preparação dos Dados"
   ]
  },
  {
   "cell_type": "code",
   "execution_count": null,
   "id": "0aed356a",
   "metadata": {},
   "outputs": [],
   "source": [
    "# Transformação: converte imagem para tensor e normalize os pixels (0 a 1)\n",
    "transform = transforms.Compose([\n",
    "  transforms.ToTensor(),\n",
    "  transforms.Normalize((0.5,), (0.5,))\n",
    "])\n",
    "\n",
    "# Download dos dados (se ainda não estiverem na maquina)\n",
    "train_dataset = dataset.MNIST(root='./data', train=True, transform=True, transform=transform, download=True)\n",
    "\n",
    "test_dataset = dataset.MNIST(root='./data', train=False, transform=transform, download=True)\n",
    "\n",
    "# DataLoaders: carregam os dados em mini-batches\n",
    "train_loader = torch.utils.data.DataLoader(train_dataset, batch_size=64, shuffle=True)\n",
    "\n",
    "test_loader = torch.utils.data.DataLoader(train_dataset, batch_size=64, shuffle=True)"
   ]
  }
 ],
 "metadata": {
  "kernelspec": {
   "display_name": "base",
   "language": "python",
   "name": "python3"
  },
  "language_info": {
   "name": "python",
   "version": "3.11.7"
  }
 },
 "nbformat": 4,
 "nbformat_minor": 5
}

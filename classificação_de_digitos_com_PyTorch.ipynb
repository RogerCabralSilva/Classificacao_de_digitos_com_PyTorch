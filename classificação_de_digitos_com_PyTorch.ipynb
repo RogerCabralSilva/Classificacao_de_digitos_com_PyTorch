{
 "cells": [
  {
   "cell_type": "markdown",
   "id": "fd47469e",
   "metadata": {},
   "source": [
    "# 1 - Importação dos Módulos"
   ]
  },
  {
   "cell_type": "code",
   "execution_count": null,
   "id": "dc464fee",
   "metadata": {},
   "outputs": [],
   "source": [
    "import torch\n",
    "import torch.nn as nn\n",
    "import torch.nn.functional as F\n",
    "import torch.optim as optim\n",
    "from torchvision import dataset, transforms\n",
    "import matplotlib.pyplot as plt"
   ]
  },
  {
   "cell_type": "markdown",
   "id": "4c0fe9ca",
   "metadata": {},
   "source": [
    "# 2 - Preparação dos Dados"
   ]
  },
  {
   "cell_type": "code",
   "execution_count": null,
   "id": "0aed356a",
   "metadata": {},
   "outputs": [],
   "source": []
  }
 ],
 "metadata": {
  "kernelspec": {
   "display_name": "base",
   "language": "python",
   "name": "python3"
  },
  "language_info": {
   "name": "python",
   "version": "3.11.7"
  }
 },
 "nbformat": 4,
 "nbformat_minor": 5
}
